{
  "nbformat": 4,
  "nbformat_minor": 0,
  "metadata": {
    "colab": {
      "provenance": [],
      "authorship_tag": "ABX9TyOPGNRbQOEZ6JBLEKJOU8PU",
      "include_colab_link": true
    },
    "kernelspec": {
      "name": "python3",
      "display_name": "Python 3"
    },
    "language_info": {
      "name": "python"
    }
  },
  "cells": [
    {
      "cell_type": "markdown",
      "metadata": {
        "id": "view-in-github",
        "colab_type": "text"
      },
      "source": [
        "<a href=\"https://colab.research.google.com/github/Maulik2604/Project----Cosine-Similarity/blob/main/Cosine_similarity.ipynb\" target=\"_parent\"><img src=\"https://colab.research.google.com/assets/colab-badge.svg\" alt=\"Open In Colab\"/></a>"
      ]
    },
    {
      "cell_type": "markdown",
      "source": [
        "Cosine Similarity"
      ],
      "metadata": {
        "id": "hGRWgDMtJ4V2"
      }
    },
    {
      "cell_type": "code",
      "execution_count": 1,
      "metadata": {
        "colab": {
          "base_uri": "https://localhost:8080/"
        },
        "id": "-DQGH7l8J16s",
        "outputId": "3b9f0edb-aea7-464f-d46b-fb38ce51081d"
      },
      "outputs": [
        {
          "output_type": "stream",
          "name": "stdout",
          "text": [
            "A:\n",
            " [[ 1  2  2]\n",
            " [ 3  2  2]\n",
            " [-2  1 -3]]\n",
            "B:\n",
            " [[ 4  2  4]\n",
            " [ 2 -2  5]\n",
            " [ 3  4 -4]]\n",
            "Cosine Similarity:\n",
            " [0.88888889 0.5066404  0.41739194]\n",
            "Cosine Similarity:\n",
            " [0.88888889 0.5066404  0.41739194]\n"
          ]
        }
      ],
      "source": [
        "import numpy as np\n",
        "from numpy.linalg import norm\n",
        "\n",
        "# define two arrays\n",
        "A = np.array([[1,2,2],\n",
        "               [3,2,2],\n",
        "               [-2,1,-3]])\n",
        "B = np.array([[4,2,4],\n",
        "               [2,-2,5],\n",
        "               [3,4,-4]])\n",
        "\n",
        "print(\"A:\\n\", A)\n",
        "print(\"B:\\n\", B)\n",
        "\n",
        "# compute cosine similarity\n",
        "cosine = np.sum(A*B, axis=1)/(norm(A, axis=1)*norm(B, axis=1))\n",
        "\n",
        "print(\"Cosine Similarity:\\n\", cosine)\n",
        "print(\"Cosine Similarity:\\n\", cosine)"
      ]
    }
  ]
}